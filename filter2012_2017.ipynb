{
 "cells": [
  {
   "cell_type": "code",
   "execution_count": 9,
   "metadata": {},
   "outputs": [],
   "source": [
    "import pandas as pd"
   ]
  },
  {
   "cell_type": "code",
   "execution_count": 10,
   "metadata": {},
   "outputs": [],
   "source": [
    "df_2012 = pd.read_csv('dataframe_2012.csv')\n",
    "df_2017 = pd.read_csv('dataframe_2017.csv')\n",
    "df_2018 = pd.read_csv('dataframe_2018.csv')\n",
    "df_traffic = pd.read_csv('dataframe_traffic.csv')"
   ]
  },
  {
   "cell_type": "code",
   "execution_count": 11,
   "metadata": {},
   "outputs": [
    {
     "name": "stdout",
     "output_type": "stream",
     "text": [
      "<class 'pandas.core.frame.DataFrame'>\n",
      "RangeIndex: 262200 entries, 0 to 262199\n",
      "Data columns (total 8 columns):\n",
      " #   Column                Non-Null Count   Dtype  \n",
      "---  ------                --------------   -----  \n",
      " 0   Unnamed: 0            262200 non-null  int64  \n",
      " 1   org:resource          244190 non-null  float64\n",
      " 2   lifecycle:transition  262200 non-null  object \n",
      " 3   concept:name          262200 non-null  object \n",
      " 4   time:timestamp        262200 non-null  object \n",
      " 5   case:REG_DATE         262200 non-null  object \n",
      " 6   case:concept:name     262200 non-null  int64  \n",
      " 7   case:AMOUNT_REQ       262200 non-null  int64  \n",
      "dtypes: float64(1), int64(3), object(4)\n",
      "memory usage: 16.0+ MB\n"
     ]
    }
   ],
   "source": [
    "df_2012.info()"
   ]
  },
  {
   "cell_type": "code",
   "execution_count": 12,
   "metadata": {},
   "outputs": [
    {
     "name": "stdout",
     "output_type": "stream",
     "text": [
      "<class 'pandas.core.frame.DataFrame'>\n",
      "RangeIndex: 1202267 entries, 0 to 1202266\n",
      "Data columns (total 20 columns):\n",
      " #   Column                 Non-Null Count    Dtype  \n",
      "---  ------                 --------------    -----  \n",
      " 0   Unnamed: 0             1202267 non-null  int64  \n",
      " 1   Action                 1202267 non-null  object \n",
      " 2   org:resource           1202267 non-null  object \n",
      " 3   concept:name           1202267 non-null  object \n",
      " 4   EventOrigin            1202267 non-null  object \n",
      " 5   EventID                1202267 non-null  object \n",
      " 6   lifecycle:transition   1202267 non-null  object \n",
      " 7   time:timestamp         1202267 non-null  object \n",
      " 8   case:LoanGoal          1202267 non-null  object \n",
      " 9   case:ApplicationType   1202267 non-null  object \n",
      " 10  case:concept:name      1202267 non-null  object \n",
      " 11  case:RequestedAmount   1202267 non-null  float64\n",
      " 12  FirstWithdrawalAmount  42995 non-null    float64\n",
      " 13  NumberOfTerms          42995 non-null    float64\n",
      " 14  Accepted               42995 non-null    object \n",
      " 15  MonthlyCost            42995 non-null    float64\n",
      " 16  Selected               42995 non-null    object \n",
      " 17  CreditScore            42995 non-null    float64\n",
      " 18  OfferedAmount          42995 non-null    float64\n",
      " 19  OfferID                150854 non-null   object \n",
      "dtypes: float64(6), int64(1), object(13)\n",
      "memory usage: 183.5+ MB\n"
     ]
    }
   ],
   "source": [
    "df_2017.info()"
   ]
  },
  {
   "cell_type": "code",
   "execution_count": 13,
   "metadata": {},
   "outputs": [
    {
     "name": "stdout",
     "output_type": "stream",
     "text": [
      "<class 'pandas.core.frame.DataFrame'>\n",
      "RangeIndex: 2514266 entries, 0 to 2514265\n",
      "Data columns (total 76 columns):\n",
      " #   Column                  Dtype  \n",
      "---  ------                  -----  \n",
      " 0   Unnamed: 0              int64  \n",
      " 1   success                 bool   \n",
      " 2   org:resource            object \n",
      " 3   docid_uuid              object \n",
      " 4   doctype                 object \n",
      " 5   subprocess              object \n",
      " 6   docid                   int64  \n",
      " 7   activity                object \n",
      " 8   note                    object \n",
      " 9   eventid                 float64\n",
      " 10  identity:id             object \n",
      " 11  concept:name            object \n",
      " 12  lifecycle:transition    object \n",
      " 13  time:timestamp          object \n",
      " 14  case:young farmer       bool   \n",
      " 15  case:selected_random    bool   \n",
      " 16  case:penalty_AJLP       bool   \n",
      " 17  case:application        object \n",
      " 18  case:penalty_amount0    float64\n",
      " 19  case:program-id         int64  \n",
      " 20  case:penalty_BGKV       bool   \n",
      " 21  case:penalty_AUVP       bool   \n",
      " 22  case:applicant          object \n",
      " 23  case:risk_factor        float64\n",
      " 24  case:small farmer       bool   \n",
      " 25  case:penalty_BGP        bool   \n",
      " 26  case:department         object \n",
      " 27  case:penalty_C16        bool   \n",
      " 28  case:penalty_BGK        bool   \n",
      " 29  case:penalty_AVUVP      bool   \n",
      " 30  case:penalty_CC         bool   \n",
      " 31  case:penalty_AVJLP      bool   \n",
      " 32  case:penalty_C9         bool   \n",
      " 33  case:cross_compliance   float64\n",
      " 34  case:rejected           bool   \n",
      " 35  case:greening           bool   \n",
      " 36  case:penalty_C4         bool   \n",
      " 37  case:penalty_AVGP       bool   \n",
      " 38  case:penalty_ABP        bool   \n",
      " 39  case:penalty_B6         bool   \n",
      " 40  case:penalty_B4         bool   \n",
      " 41  case:penalty_B5         bool   \n",
      " 42  case:penalty_AVBP       bool   \n",
      " 43  case:penalty_B2         bool   \n",
      " 44  case:selected_risk      bool   \n",
      " 45  case:penalty_B3         bool   \n",
      " 46  case:area               float64\n",
      " 47  case:selected_manually  bool   \n",
      " 48  case:penalty_AGP        bool   \n",
      " 49  case:penalty_B16        bool   \n",
      " 50  case:penalty_GP1        bool   \n",
      " 51  case:basic payment      bool   \n",
      " 52  case:penalty_B5F        bool   \n",
      " 53  case:penalty_V5         bool   \n",
      " 54  case:payment_actual0    float64\n",
      " 55  case:identity:id        object \n",
      " 56  case:amount_applied0    float64\n",
      " 57  case:redistribution     bool   \n",
      " 58  case:penalty_JLP6       bool   \n",
      " 59  case:penalty_JLP7       bool   \n",
      " 60  case:year               int64  \n",
      " 61  case:penalty_JLP5       bool   \n",
      " 62  case:penalty_JLP2       bool   \n",
      " 63  case:penalty_JLP3       bool   \n",
      " 64  case:number_parcels     int64  \n",
      " 65  case:penalty_JLP1       bool   \n",
      " 66  case:concept:name       object \n",
      " 67  case:penalty_amount1    float64\n",
      " 68  case:payment_actual1    float64\n",
      " 69  case:amount_applied1    float64\n",
      " 70  case:penalty_amount2    float64\n",
      " 71  case:payment_actual2    float64\n",
      " 72  case:amount_applied2    float64\n",
      " 73  case:penalty_amount3    float64\n",
      " 74  case:payment_actual3    float64\n",
      " 75  case:amount_applied3    float64\n",
      "dtypes: bool(40), float64(16), int64(5), object(15)\n",
      "memory usage: 786.5+ MB\n"
     ]
    }
   ],
   "source": [
    "df_2018.info()"
   ]
  },
  {
   "cell_type": "code",
   "execution_count": 14,
   "metadata": {},
   "outputs": [
    {
     "name": "stdout",
     "output_type": "stream",
     "text": [
      "<class 'pandas.core.frame.DataFrame'>\n",
      "RangeIndex: 561470 entries, 0 to 561469\n",
      "Data columns (total 17 columns):\n",
      " #   Column                Non-Null Count   Dtype  \n",
      "---  ------                --------------   -----  \n",
      " 0   Unnamed: 0            561470 non-null  int64  \n",
      " 1   amount                230230 non-null  float64\n",
      " 2   org:resource          150925 non-null  float64\n",
      " 3   dismissal             155066 non-null  object \n",
      " 4   concept:name          561470 non-null  object \n",
      " 5   vehicleClass          150370 non-null  object \n",
      " 6   totalPaymentAmount    227971 non-null  float64\n",
      " 7   lifecycle:transition  561470 non-null  object \n",
      " 8   time:timestamp        561470 non-null  object \n",
      " 9   article               150370 non-null  float64\n",
      " 10  points                150370 non-null  float64\n",
      " 11  case:concept:name     561470 non-null  object \n",
      " 12  expense               103987 non-null  float64\n",
      " 13  notificationType      79860 non-null   object \n",
      " 14  lastSent              78229 non-null   object \n",
      " 15  paymentAmount         77601 non-null   float64\n",
      " 16  matricola             555 non-null     float64\n",
      "dtypes: float64(8), int64(1), object(8)\n",
      "memory usage: 72.8+ MB\n"
     ]
    }
   ],
   "source": [
    "df_traffic.info()"
   ]
  },
  {
   "cell_type": "code",
   "execution_count": 17,
   "metadata": {},
   "outputs": [
    {
     "name": "stderr",
     "output_type": "stream",
     "text": [
      "/var/folders/x_/q8m53n9s7qj76786p5830ldh0000gn/T/ipykernel_14802/2131762154.py:9: SettingWithCopyWarning: \n",
      "A value is trying to be set on a copy of a slice from a DataFrame.\n",
      "Try using .loc[row_indexer,col_indexer] = value instead\n",
      "\n",
      "See the caveats in the documentation: https://pandas.pydata.org/pandas-docs/stable/user_guide/indexing.html#returning-a-view-versus-a-copy\n",
      "  df_2017_common['case:concept:name'] = df_2017_common['case:concept:name'].str.split('_').str[1]\n",
      "/var/folders/x_/q8m53n9s7qj76786p5830ldh0000gn/T/ipykernel_14802/2131762154.py:12: SettingWithCopyWarning: \n",
      "A value is trying to be set on a copy of a slice from a DataFrame.\n",
      "Try using .loc[row_indexer,col_indexer] = value instead\n",
      "\n",
      "See the caveats in the documentation: https://pandas.pydata.org/pandas-docs/stable/user_guide/indexing.html#returning-a-view-versus-a-copy\n",
      "  df_2017_common['case:concept:name'] = df_2017_common['case:concept:name'].astype(int)\n"
     ]
    }
   ],
   "source": [
    "# Identify common columns\n",
    "common_columns = set(df_2012.columns) & set(df_2017.columns)\n",
    "common_columns_list = list(common_columns)  # Convert set to list\n",
    "\n",
    "# Filter each DataFrame to keep only the common columns\n",
    "df_2012_common = df_2012[common_columns_list]\n",
    "df_2017_common = df_2017[common_columns_list]\n",
    "# Split the 'case:concept:name' by '_' and keep the second part (the numeric ID)\n",
    "df_2017_common['case:concept:name'] = df_2017_common['case:concept:name'].str.split('_').str[1]\n",
    "\n",
    "# Convert the modified 'case:concept:name' to an integer type if needed\n",
    "df_2017_common['case:concept:name'] = df_2017_common['case:concept:name'].astype(int)\n",
    "\n",
    "df_2012_common.to_csv('common columns/dataframe_2012.csv', index=False)\n",
    "df_2017_common.to_csv('common columns/dataframe_2017.csv', index=False)\n",
    "\n"
   ]
  }
 ],
 "metadata": {
  "kernelspec": {
   "display_name": "base",
   "language": "python",
   "name": "python3"
  },
  "language_info": {
   "codemirror_mode": {
    "name": "ipython",
    "version": 3
   },
   "file_extension": ".py",
   "mimetype": "text/x-python",
   "name": "python",
   "nbconvert_exporter": "python",
   "pygments_lexer": "ipython3",
   "version": "3.11.5"
  }
 },
 "nbformat": 4,
 "nbformat_minor": 2
}
