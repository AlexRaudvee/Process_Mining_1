{
 "cells": [
  {
   "cell_type": "code",
   "execution_count": 1,
   "metadata": {},
   "outputs": [
    {
     "name": "stdout",
     "output_type": "stream",
     "text": [
      "Requirement already satisfied: tensorflow in /Users/xuenichen/anaconda3/lib/python3.11/site-packages (2.16.1)\n",
      "Requirement already satisfied: absl-py>=1.0.0 in /Users/xuenichen/anaconda3/lib/python3.11/site-packages (from tensorflow) (2.1.0)\n",
      "Requirement already satisfied: astunparse>=1.6.0 in /Users/xuenichen/anaconda3/lib/python3.11/site-packages (from tensorflow) (1.6.3)\n",
      "Requirement already satisfied: flatbuffers>=23.5.26 in /Users/xuenichen/anaconda3/lib/python3.11/site-packages (from tensorflow) (24.3.7)\n",
      "Requirement already satisfied: gast!=0.5.0,!=0.5.1,!=0.5.2,>=0.2.1 in /Users/xuenichen/anaconda3/lib/python3.11/site-packages (from tensorflow) (0.5.4)\n",
      "Requirement already satisfied: google-pasta>=0.1.1 in /Users/xuenichen/anaconda3/lib/python3.11/site-packages (from tensorflow) (0.2.0)\n",
      "Requirement already satisfied: h5py>=3.10.0 in /Users/xuenichen/anaconda3/lib/python3.11/site-packages (from tensorflow) (3.10.0)\n",
      "Requirement already satisfied: libclang>=13.0.0 in /Users/xuenichen/anaconda3/lib/python3.11/site-packages (from tensorflow) (18.1.1)\n",
      "Requirement already satisfied: ml-dtypes~=0.3.1 in /Users/xuenichen/anaconda3/lib/python3.11/site-packages (from tensorflow) (0.3.2)\n",
      "Requirement already satisfied: opt-einsum>=2.3.2 in /Users/xuenichen/anaconda3/lib/python3.11/site-packages (from tensorflow) (3.3.0)\n",
      "Requirement already satisfied: packaging in /Users/xuenichen/anaconda3/lib/python3.11/site-packages (from tensorflow) (23.1)\n",
      "Requirement already satisfied: protobuf!=4.21.0,!=4.21.1,!=4.21.2,!=4.21.3,!=4.21.4,!=4.21.5,<5.0.0dev,>=3.20.3 in /Users/xuenichen/anaconda3/lib/python3.11/site-packages (from tensorflow) (4.25.3)\n",
      "Requirement already satisfied: requests<3,>=2.21.0 in /Users/xuenichen/anaconda3/lib/python3.11/site-packages (from tensorflow) (2.31.0)\n",
      "Requirement already satisfied: setuptools in /Users/xuenichen/anaconda3/lib/python3.11/site-packages (from tensorflow) (68.0.0)\n",
      "Requirement already satisfied: six>=1.12.0 in /Users/xuenichen/anaconda3/lib/python3.11/site-packages (from tensorflow) (1.16.0)\n",
      "Requirement already satisfied: termcolor>=1.1.0 in /Users/xuenichen/anaconda3/lib/python3.11/site-packages (from tensorflow) (2.4.0)\n",
      "Requirement already satisfied: typing-extensions>=3.6.6 in /Users/xuenichen/anaconda3/lib/python3.11/site-packages (from tensorflow) (4.7.1)\n",
      "Requirement already satisfied: wrapt>=1.11.0 in /Users/xuenichen/anaconda3/lib/python3.11/site-packages (from tensorflow) (1.14.1)\n",
      "Requirement already satisfied: grpcio<2.0,>=1.24.3 in /Users/xuenichen/anaconda3/lib/python3.11/site-packages (from tensorflow) (1.62.1)\n",
      "Requirement already satisfied: tensorboard<2.17,>=2.16 in /Users/xuenichen/anaconda3/lib/python3.11/site-packages (from tensorflow) (2.16.2)\n",
      "Requirement already satisfied: keras>=3.0.0 in /Users/xuenichen/anaconda3/lib/python3.11/site-packages (from tensorflow) (3.0.5)\n",
      "Requirement already satisfied: tensorflow-io-gcs-filesystem>=0.23.1 in /Users/xuenichen/anaconda3/lib/python3.11/site-packages (from tensorflow) (0.36.0)\n",
      "Requirement already satisfied: numpy<2.0.0,>=1.23.5 in /Users/xuenichen/anaconda3/lib/python3.11/site-packages (from tensorflow) (1.24.3)\n",
      "Requirement already satisfied: wheel<1.0,>=0.23.0 in /Users/xuenichen/anaconda3/lib/python3.11/site-packages (from astunparse>=1.6.0->tensorflow) (0.38.4)\n",
      "Requirement already satisfied: rich in /Users/xuenichen/anaconda3/lib/python3.11/site-packages (from keras>=3.0.0->tensorflow) (13.7.1)\n",
      "Requirement already satisfied: namex in /Users/xuenichen/anaconda3/lib/python3.11/site-packages (from keras>=3.0.0->tensorflow) (0.0.7)\n",
      "Requirement already satisfied: dm-tree in /Users/xuenichen/anaconda3/lib/python3.11/site-packages (from keras>=3.0.0->tensorflow) (0.1.8)\n",
      "Requirement already satisfied: charset-normalizer<4,>=2 in /Users/xuenichen/anaconda3/lib/python3.11/site-packages (from requests<3,>=2.21.0->tensorflow) (2.0.4)\n",
      "Requirement already satisfied: idna<4,>=2.5 in /Users/xuenichen/anaconda3/lib/python3.11/site-packages (from requests<3,>=2.21.0->tensorflow) (3.4)\n",
      "Requirement already satisfied: urllib3<3,>=1.21.1 in /Users/xuenichen/anaconda3/lib/python3.11/site-packages (from requests<3,>=2.21.0->tensorflow) (1.26.16)\n",
      "Requirement already satisfied: certifi>=2017.4.17 in /Users/xuenichen/anaconda3/lib/python3.11/site-packages (from requests<3,>=2.21.0->tensorflow) (2023.11.17)\n",
      "Requirement already satisfied: markdown>=2.6.8 in /Users/xuenichen/anaconda3/lib/python3.11/site-packages (from tensorboard<2.17,>=2.16->tensorflow) (3.4.1)\n",
      "Requirement already satisfied: tensorboard-data-server<0.8.0,>=0.7.0 in /Users/xuenichen/anaconda3/lib/python3.11/site-packages (from tensorboard<2.17,>=2.16->tensorflow) (0.7.2)\n",
      "Requirement already satisfied: werkzeug>=1.0.1 in /Users/xuenichen/anaconda3/lib/python3.11/site-packages (from tensorboard<2.17,>=2.16->tensorflow) (2.2.3)\n",
      "Requirement already satisfied: MarkupSafe>=2.1.1 in /Users/xuenichen/anaconda3/lib/python3.11/site-packages (from werkzeug>=1.0.1->tensorboard<2.17,>=2.16->tensorflow) (2.1.1)\n",
      "Requirement already satisfied: markdown-it-py>=2.2.0 in /Users/xuenichen/anaconda3/lib/python3.11/site-packages (from rich->keras>=3.0.0->tensorflow) (2.2.0)\n",
      "Requirement already satisfied: pygments<3.0.0,>=2.13.0 in /Users/xuenichen/anaconda3/lib/python3.11/site-packages (from rich->keras>=3.0.0->tensorflow) (2.15.1)\n",
      "Requirement already satisfied: mdurl~=0.1 in /Users/xuenichen/anaconda3/lib/python3.11/site-packages (from markdown-it-py>=2.2.0->rich->keras>=3.0.0->tensorflow) (0.1.0)\n"
     ]
    }
   ],
   "source": [
    "!pip install tensorflow"
   ]
  },
  {
   "cell_type": "code",
   "execution_count": 1,
   "metadata": {},
   "outputs": [],
   "source": [
    "import os\n",
    "import pandas as pd\n",
    "import numpy as np\n",
    "import tensorflow as tf\n",
    "from tensorflow.keras.preprocessing.sequence import pad_sequences\n",
    "from tensorflow.keras.models import Model\n",
    "from tensorflow.keras.layers import Input, LSTM, Dense, Embedding\n",
    "from sklearn.preprocessing import MinMaxScaler\n",
    "\n",
    "data_path = '/Users/xuenichen/Desktop/Process_Mining_1-main/data'\n",
    "chosed_dataset = 'BPI_Challenge_2017'\n",
    "datasets = ['train', 'test', 'train_test']"
   ]
  },
  {
   "cell_type": "code",
   "execution_count": 2,
   "metadata": {},
   "outputs": [],
   "source": [
    "def prepare_sequences(dataframe, tokenizer=None):\n",
    "    activities = dataframe['concept:name'].astype(str).tolist()\n",
    "    timestamps = pd.to_datetime(dataframe['time:timestamp']).values\n",
    "    time_diffs = np.diff(timestamps) / np.timedelta64(1, 's')\n",
    "    time_diffs = np.insert(time_diffs, 0, 0)\n",
    "\n",
    "    if tokenizer is None:\n",
    "        tokenizer = tf.keras.preprocessing.text.Tokenizer(filters='')\n",
    "        tokenizer.fit_on_texts(activities)\n",
    "    sequences = tokenizer.texts_to_sequences(activities)\n",
    "\n",
    "    X, y_activity, y_time = [], [], []\n",
    "    for i in range(1, len(sequences)):\n",
    "        X.append(sequences[:i])\n",
    "        y_activity.append(sequences[i])\n",
    "        y_time.append(time_diffs[i])\n",
    "\n",
    "    max_sequence_len = max([len(x) for x in X])\n",
    "    X = pad_sequences(X, maxlen=max_sequence_len, padding='pre')\n",
    "    y_activity = np.array(y_activity)\n",
    "    y_time = np.array(y_time).reshape(-1, 1)\n",
    "\n",
    "    scaler = MinMaxScaler()\n",
    "    y_time = scaler.fit_transform(y_time)\n",
    "\n",
    "    vocab_size = len(tokenizer.word_index) + 1\n",
    "\n",
    "    return X, y_activity, y_time, tokenizer, vocab_size, max_sequence_len, scaler"
   ]
  },
  {
   "cell_type": "code",
   "execution_count": 3,
   "metadata": {},
   "outputs": [],
   "source": [
    "# Model building\n",
    "def build_model(vocab_size, max_sequence_len):\n",
    "    encoder_inputs = Input(shape=(max_sequence_len,))\n",
    "    enc_emb = Embedding(vocab_size, 100)(encoder_inputs)\n",
    "    encoder_lstm = LSTM(100, return_state=True)\n",
    "    encoder_outputs, state_h, state_c = encoder_lstm(enc_emb)\n",
    "    encoder_states = [state_h, state_c]\n",
    "\n",
    "    decoder_inputs = Input(shape=(max_sequence_len,))\n",
    "    dec_emb_layer = Embedding(vocab_size, 100)\n",
    "    dec_emb = dec_emb_layer(decoder_inputs)\n",
    "    decoder_lstm = LSTM(100, return_sequences=True, return_state=True)\n",
    "    decoder_outputs, _, _ = decoder_lstm(dec_emb, initial_state=encoder_states)\n",
    "    activity_output = Dense(vocab_size, activation='softmax')(decoder_outputs)\n",
    "    time_output = Dense(1, activation='relu')(decoder_outputs)\n",
    "\n",
    "    model = Model([encoder_inputs, decoder_inputs],[activity_output, time_output])\n",
    "    model.compile(optimizer='adam', loss=['categorical_crossentropy', 'mse'], metrics=['acc', 'mse'])\n",
    "\n",
    "    return model"
   ]
  },
  {
   "cell_type": "code",
   "execution_count": 5,
   "metadata": {},
   "outputs": [],
   "source": [
    "# Function to save predictions\n",
    "def generate_activity_sequence(model, tokenizer, scaler, max_sequence_len, start_activity='A_Create Application', max_len=10):\n",
    "    sequence = [tokenizer.word_index[start_activity]] if start_activity in tokenizer.word_index else [0]\n",
    "    output_sequence = [start_activity]\n",
    "    current_time = 0\n",
    "\n",
    "    for _ in range(max_len - 1):\n",
    "        padded_sequence = pad_sequences([sequence], maxlen=max_sequence_len, padding='pre')\n",
    "        \n",
    "        pred_activity, pred_time = model.predict([padded_sequence, padded_sequence])\n",
    "        \n",
    "        next_activity_index = np.argmax(pred_activity[0, -1])\n",
    "        if next_activity_index == 0:\n",
    "            break\n",
    "        next_activity = tokenizer.index_word.get(next_activity_index, 'UNK')\n",
    "        output_sequence.append(next_activity)\n",
    "        sequence.append(next_activity_index)\n",
    "        current_time += scaler.inverse_transform(\n",
    "            pred_time[0, -1].reshape(-1, 1))[0, 0]\n",
    "        if next_activity == 'END':\n",
    "            break\n",
    "\n",
    "    return output_sequence, current_time\n",
    "\n",
    "\n",
    "def save_predictions_with_sequences(dataset_name, model, tokenizer, scaler, vocab_size, max_sequence_len, chosed_dataset):\n",
    "    case_ids = range(1, 101)  # Example case IDs; adjust based on your data\n",
    "    predicted_traces = []\n",
    "    total_times = []\n",
    "\n",
    "    for _ in case_ids:\n",
    "        predicted_trace, total_time = generate_activity_sequence(model, tokenizer, scaler, max_sequence_len)\n",
    "        predicted_traces.append(', '.join(predicted_trace))\n",
    "        total_times.append(total_time)\n",
    "\n",
    "    output_df = pd.DataFrame({\n",
    "        'case:concept:name': case_ids,\n",
    "        'predicted_trace': predicted_traces,\n",
    "        'total_timestamp': total_times\n",
    "    })\n",
    "\n",
    "    output_filename = f'Seq2Seq_traces_{dataset_name}_{chosed_dataset}.csv'\n",
    "    output_df.to_csv(os.path.join(data_path, output_filename), index=False)\n",
    "    print(f\"Saved predictions to {output_filename}\")"
   ]
  },
  {
   "cell_type": "code",
   "execution_count": 6,
   "metadata": {},
   "outputs": [
    {
     "name": "stderr",
     "output_type": "stream",
     "text": [
      "/var/folders/x_/q8m53n9s7qj76786p5830ldh0000gn/T/ipykernel_44915/75379421.py:4: DtypeWarning: Columns (15,17) have mixed types. Specify dtype option on import or set low_memory=False.\n",
      "  dataframe = pd.read_csv(os.path.join(\n"
     ]
    },
    {
     "ename": "",
     "evalue": "",
     "output_type": "error",
     "traceback": [
      "\u001b[1;31mThe Kernel crashed while executing code in the current cell or a previous cell. \n",
      "\u001b[1;31mPlease review the code in the cell(s) to identify a possible cause of the failure. \n",
      "\u001b[1;31mClick <a href='https://aka.ms/vscodeJupyterKernelCrash'>here</a> for more info. \n",
      "\u001b[1;31mView Jupyter <a href='command:jupyter.viewOutput'>log</a> for further details."
     ]
    }
   ],
   "source": [
    "tokenizer = None  # Initialize tokenizer\n",
    "\n",
    "for dataset_name in datasets:\n",
    "    dataframe = pd.read_csv(os.path.join(data_path, f'{dataset_name}_{chosed_dataset}.csv'))\n",
    "    X, y_activity, y_time, tokenizer, vocab_size, max_sequence_len, scaler = prepare_sequences(dataframe, tokenizer)\n",
    "    y_activity_categorical = tf.keras.utils.to_categorical(y_activity, num_classes=vocab_size)\n",
    "\n",
    "    model = build_model(vocab_size, max_sequence_len)\n",
    "    model.fit([X, X], [y_activity_categorical, y_time],batch_size=64, epochs=10, validation_split=0.2)\n",
    "\n",
    "    save_predictions_with_sequences(dataset_name, model, tokenizer, scaler, vocab_size, max_sequence_len, chosed_dataset)"
   ]
  },
  {
   "cell_type": "code",
   "execution_count": null,
   "metadata": {},
   "outputs": [],
   "source": []
  },
  {
   "cell_type": "code",
   "execution_count": null,
   "metadata": {},
   "outputs": [],
   "source": []
  }
 ],
 "metadata": {
  "kernelspec": {
   "display_name": "base",
   "language": "python",
   "name": "python3"
  },
  "language_info": {
   "codemirror_mode": {
    "name": "ipython",
    "version": 3
   },
   "file_extension": ".py",
   "mimetype": "text/x-python",
   "name": "python",
   "nbconvert_exporter": "python",
   "pygments_lexer": "ipython3",
   "version": "3.11.5"
  }
 },
 "nbformat": 4,
 "nbformat_minor": 2
}
